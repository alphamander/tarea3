{
 "cells": [
  {
   "cell_type": "markdown",
   "metadata": {},
   "source": [
    "# Funciones\n"
   ]
  },
  {
   "cell_type": "markdown",
   "metadata": {},
   "source": [
    "## Funciones en Python\n",
    "Las funciones son bloques de codigo que se ejecutan cuando son llamados utilizando el nombre con los que fueron definidos. Ademas de ejecutar bloques de codigo las funciones pueden recibir valores en forma de parametros. Las funciones pueden o no retornar un valor o referencia. A continuacion se muestra un ejemplo basico de como se define y se llama una funcion basica sin parametros y que no retorna nada."
   ]
  },
  {
   "cell_type": "code",
   "execution_count": 2,
   "metadata": {},
   "outputs": [
    {
     "name": "stdout",
     "output_type": "stream",
     "text": [
      "Hola\n"
     ]
    }
   ],
   "source": [
    "#Definicion de la funcion basica\n",
    "def basica():\n",
    "    print('Hola')\n",
    "#Llamada de la funcion\n",
    "basica()"
   ]
  },
  {
   "cell_type": "markdown",
   "metadata": {},
   "source": [
    "Conclusiones\n",
    "* Son utiles porque nos permite evitar tener codigo duplicado."
   ]
  },
  {
   "cell_type": "markdown",
   "metadata": {},
   "source": [
    "## Parametros posicionales\n",
    "Los parametros posicionales en una funcion en python, son valores que por obligacion deben proveerse a la hora de realizar una llamada a la funcion, de lo contrario el interprete de python levantara un error. Se llaman posicionales porque si se define una funcion con dos parametros A, B entonces a la hora de realizar la llamada el valor de A debe proveerse antes que el de B. Ejemplo:"
   ]
  },
  {
   "cell_type": "code",
   "execution_count": 3,
   "metadata": {},
   "outputs": [
    {
     "name": "stdout",
     "output_type": "stream",
     "text": [
      "valor de A: 1\n",
      "valor de B: 3\n"
     ]
    }
   ],
   "source": [
    "#Definicion de una funcion con parametros A y B\n",
    "def conParametros(A,B):\n",
    "    print('valor de A: ' + str(A))\n",
    "    print('valor de B: ' + str(B))\n",
    "#Llamada a la funcion conParametros utilizando parametros posicionales\n",
    "conParametrosPosicionales(1,3)"
   ]
  },
  {
   "cell_type": "markdown",
   "metadata": {},
   "source": [
    "Conclusiones\n",
    "* Nos permite tener 'cajas negras' a las que les pasamos ciertos parametros y que devuelven valores utiles.\n",
    "* Tiene ciertas limitaciones, ya que no nos deja tener valores por 'default' o nos permite ingresar los valores en distinto orden"
   ]
  },
  {
   "cell_type": "markdown",
   "metadata": {},
   "source": [
    "## Parametros Nombrados"
   ]
  },
  {
   "cell_type": "markdown",
   "metadata": {},
   "source": [
    "Una funcion especial de python son los parametros nombrados. Estos nos permiten pasar valores a funciones sin necesidad de proveer los valores en el orden en el que fueron definidos, un ejemplo utilizando la funcion anterior es:"
   ]
  },
  {
   "cell_type": "code",
   "execution_count": 6,
   "metadata": {},
   "outputs": [
    {
     "name": "stdout",
     "output_type": "stream",
     "text": [
      "valor de A: 1\n",
      "valor de B: 3\n"
     ]
    }
   ],
   "source": [
    "conParametrosPosicionales(B=3,A=1)"
   ]
  },
  {
   "cell_type": "markdown",
   "metadata": {},
   "source": [
    "Nos podemos dar cuenta que los valores fueron provistos en distinto orden, pero el resultado fue el mismo, esto se debe al uso de parametros nombrados.\n",
    "Otro uso de parametros nombrados es tener valores por default, esto nos permite llamar a una funcion con parametros sin necesidad de proveer un valor. Ejemplo:"
   ]
  },
  {
   "cell_type": "code",
   "execution_count": 8,
   "metadata": {},
   "outputs": [
    {
     "name": "stdout",
     "output_type": "stream",
     "text": [
      "valor por default\n",
      "Valor provisto\n"
     ]
    }
   ],
   "source": [
    "def valorPorDefault(A='valor por default'):\n",
    "    print(A)\n",
    "#Llamada sin valor\n",
    "valorPorDefault()\n",
    "#LLamada con valor\n",
    "valorPorDefault('Valor provisto')"
   ]
  },
  {
   "cell_type": "markdown",
   "metadata": {},
   "source": [
    "Conclusiones\n",
    "* Esta funcion es especialmente util en funciones que necesitan recibir muchos parametros, ya que nos permite omitir algunos valores\n",
    "* Tambien es util ya que le permite a cualquier persona que lea el codigo tener una idea de que valores se estan pasando a la funcion"
   ]
  },
  {
   "cell_type": "markdown",
   "metadata": {},
   "source": [
    "## Retorno de multiples valores"
   ]
  },
  {
   "cell_type": "markdown",
   "metadata": {},
   "source": [
    "Existen distintas formas de que una funcion retorne multiples valores. A continuacion se ejemplifican:"
   ]
  },
  {
   "cell_type": "code",
   "execution_count": 12,
   "metadata": {},
   "outputs": [
    {
     "name": "stdout",
     "output_type": "stream",
     "text": [
      "{'key1': 'valor 1', 'key2': 'valor 2'}\n",
      "['valor 1', 'valor 2']\n",
      "('valor 1', 'valor 2')\n"
     ]
    }
   ],
   "source": [
    "#Retorno de multiples valores con diccionario\n",
    "def multDict():\n",
    "    val1 = 'valor 1'\n",
    "    val2 = 'valor 2'\n",
    "    return {'key1':val1, 'key2': val2}\n",
    "print (multDict())\n",
    "#Retorno de multiples valores con lista\n",
    "def multList():\n",
    "    val1 = 'valor 1'\n",
    "    val2 = 'valor 2'\n",
    "    return [val1,val2]\n",
    "print (multList())\n",
    "#Retorno de multiples valores con tupla\n",
    "def multTuple():\n",
    "    val1 = 'valor 1'\n",
    "    val2 = 'valor 2'\n",
    "    return val1,val2\n",
    "print (multTuple())"
   ]
  },
  {
   "cell_type": "markdown",
   "metadata": {},
   "source": [
    "Conclusiones\n",
    "* Existen distintas formas de retornar multiples valores, pero la mas facil de utilizar es la que utiliza tuplas"
   ]
  },
  {
   "cell_type": "markdown",
   "metadata": {},
   "source": [
    "## Funciones como objetos y como parametros de otras funciones"
   ]
  },
  {
   "cell_type": "markdown",
   "metadata": {},
   "source": [
    "Las funciones dentro de python son tratadas como objetos. Esto nos permite pasar referencias a estas funciones como parametros de una funciones. A continuacion se presenta un ejemplo:"
   ]
  },
  {
   "cell_type": "code",
   "execution_count": 13,
   "metadata": {},
   "outputs": [
    {
     "name": "stdout",
     "output_type": "stream",
     "text": [
      "valor: -7\n",
      "valor: 7.8\n"
     ]
    }
   ],
   "source": [
    "def devuelveEntero(val):\n",
    "    return int(val)\n",
    "def devuleveValorAbsoluto(val):\n",
    "    return abs(val)\n",
    "def printVal(modificador, val):\n",
    "    print(\"valor: \"+str(modificador(val)))\n",
    "valorAModificar=-7.8\n",
    "printVal(devuelveEntero, valorAModificar)\n",
    "printVal(devuleveValorAbsoluto, valorAModificar)"
   ]
  },
  {
   "cell_type": "markdown",
   "metadata": {},
   "source": [
    "Conclusiones\n",
    "* Esta funcionalidad agrega flexibilidad a la hora de desarrollar herramientas. Esto se debe a que facilita procesar informacion de distintas formas.\n",
    "* Un ejemplo de ello podria ser una funcion que organice una lista, y que como parametros reciba una lista y el algoritmo con el cual ordenarla"
   ]
  },
  {
   "cell_type": "markdown",
   "metadata": {},
   "source": [
    "## Funciones anonimas o lambda"
   ]
  },
  {
   "cell_type": "markdown",
   "metadata": {},
   "source": [
    "Las funciones anonimas o lambda nos permite crear funciones sin necesidad de asignarle un nombre en su definicion. A continuacion se presenta un ejemplo:"
   ]
  },
  {
   "cell_type": "code",
   "execution_count": 16,
   "metadata": {},
   "outputs": [
    {
     "name": "stdout",
     "output_type": "stream",
     "text": [
      "4\n",
      "Residuo para una division por 30\n",
      "Residuo para una division por 76\n"
     ]
    }
   ],
   "source": [
    "#Uso simple de funciones lambda\n",
    "lambdaFunction = lambda a : a*a\n",
    "print (lambdaFunction(2))\n",
    "\n",
    "#Uso complejo\n",
    "#Funcion que devuelve una funcion que devuelve el residuo de la por el valor provisto\n",
    "def residuoParaDivisionPor(divisor):\n",
    "    return lambda a : a % divisor\n",
    "\n",
    "residuoParaTres = residuoParaDivisionPor(3)\n",
    "print(\"Residuo para una division por 3\" + str(residuoParaTres(27)))\n",
    "residuoParaSiete = residuoParaDivisionPor(7)\n",
    "print(\"Residuo para una division por 7\" + str(residuoParaSiete(27)))\n",
    "\n"
   ]
  },
  {
   "cell_type": "markdown",
   "metadata": {},
   "source": [
    "Conclusiones\n",
    "* Las funciones lambda son utiles para definir funciones simples\n",
    "* Las funciones lambda pueden ser utiles para definir funciones que generan otras funciones"
   ]
  },
  {
   "cell_type": "markdown",
   "metadata": {},
   "source": [
    "## Link del repositorio\n",
    "https://github.com/alphamander/tarea3.git"
   ]
  }
 ],
 "metadata": {
  "kernelspec": {
   "display_name": "Python 3",
   "language": "python",
   "name": "python3"
  },
  "language_info": {
   "codemirror_mode": {
    "name": "ipython",
    "version": 3
   },
   "file_extension": ".py",
   "mimetype": "text/x-python",
   "name": "python",
   "nbconvert_exporter": "python",
   "pygments_lexer": "ipython3",
   "version": "3.8.2"
  }
 },
 "nbformat": 4,
 "nbformat_minor": 4
}
